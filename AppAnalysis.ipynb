{
  "cells": [
    {
      "cell_type": "markdown",
      "source": [
        "# Determining the most Profitable App Genre based on AppStore and GooglePlay datasets"
      ],
      "metadata": {
        "id": "2lYv4IcnNLmg"
      }
    },
    {
      "cell_type": "markdown",
      "source": [
        "**The following project aims to analyse data to help app developers to understand what genre of FREE apps are likely attract more users**"
      ],
      "metadata": {
        "id": "YrpAdUY0Nhll"
      }
    },
    {
      "cell_type": "code",
      "execution_count": null,
      "metadata": {
        "id": "GjEqXhy0NJcV"
      },
      "outputs": [],
      "source": [
        "from csv import reader"
      ]
    },
    {
      "cell_type": "code",
      "execution_count": null,
      "metadata": {
        "id": "ImJulqysNJcW"
      },
      "outputs": [],
      "source": [
        "#  Reading AppStore CSV dataset and converting it into a list of lists\n",
        "\n",
        "open_ios = open('AppleStore.csv')\n",
        "read_ios = reader(open_ios)\n",
        "ios_list = list(read_ios)\n",
        "ios_header = ios_list[0]\n",
        "ios = ios_list[1:]\n",
        "\n",
        "#  Reading the GooglePlay CSV dataset and converting it into a list of lists\n",
        "\n",
        "open_android = open('googleplaystore.csv')\n",
        "read_android = reader(open_android)\n",
        "android_list = list(read_android)\n",
        "android_header = android_list[0]\n",
        "android = android_list[1:]"
      ]
    },
    {
      "cell_type": "code",
      "execution_count": null,
      "metadata": {
        "id": "zhbxAWoqNJcZ"
      },
      "outputs": [],
      "source": [
        "#  Function to explore the data easily\n",
        "\n",
        "def explore_data(dataset, start, end, rows_and_columns=False):\n",
        "    dataset_slice = dataset[start:end]\n",
        "    for row in dataset_slice:\n",
        "        print(row)\n",
        "        print('\\n')\n",
        "        \n",
        "    if rows_and_columns:\n",
        "        print('Number of rows:', len(dataset))\n",
        "        print('Number of columns:', len(dataset[0]))"
      ]
    },
    {
      "cell_type": "code",
      "execution_count": null,
      "metadata": {
        "id": "f7tTwU6kNJca",
        "outputId": "86217f2a-f2af-4f5a-b0ea-788e398d1b81"
      },
      "outputs": [
        {
          "name": "stdout",
          "output_type": "stream",
          "text": [
            "['id', 'track_name', 'size_bytes', 'currency', 'price', 'rating_count_tot', 'rating_count_ver', 'user_rating', 'user_rating_ver', 'ver', 'cont_rating', 'prime_genre', 'sup_devices.num', 'ipadSc_urls.num', 'lang.num', 'vpp_lic']\n",
            "\n",
            "\n",
            "['284882215', 'Facebook', '389879808', 'USD', '0.0', '2974676', '212', '3.5', '3.5', '95.0', '4+', 'Social Networking', '37', '1', '29', '1']\n",
            "\n",
            "\n",
            "['389801252', 'Instagram', '113954816', 'USD', '0.0', '2161558', '1289', '4.5', '4.0', '10.23', '12+', 'Photo & Video', '37', '0', '29', '1']\n",
            "\n",
            "\n",
            "['529479190', 'Clash of Clans', '116476928', 'USD', '0.0', '2130805', '579', '4.5', '4.5', '9.24.12', '9+', 'Games', '38', '5', '18', '1']\n",
            "\n",
            "\n",
            "['420009108', 'Temple Run', '65921024', 'USD', '0.0', '1724546', '3842', '4.5', '4.0', '1.6.2', '9+', 'Games', '40', '5', '1', '1']\n",
            "\n",
            "\n",
            "Number of rows: 7197\n",
            "Number of columns: 16\n"
          ]
        }
      ],
      "source": [
        "print(ios_header)\n",
        "print('\\n')\n",
        "explore_data(ios, 0, 4, True)"
      ]
    },
    {
      "cell_type": "markdown",
      "source": [
        "# Data Cleaning"
      ],
      "metadata": {
        "id": "IkRmgIkEOShE"
      }
    },
    {
      "cell_type": "markdown",
      "source": [
        "First, we will check whether there are any missing columns in both datasets"
      ],
      "metadata": {
        "id": "MaMwGA4kOykv"
      }
    },
    {
      "cell_type": "code",
      "execution_count": null,
      "metadata": {
        "id": "8DvcB9g6NJca",
        "outputId": "f966573a-1dcd-4ec6-ce9d-e1f55ed52073"
      },
      "outputs": [
        {
          "name": "stdout",
          "output_type": "stream",
          "text": [
            "13\n",
            "['Life Made WI-Fi Touchscreen Photo Frame', '1.9', '19', '3.0M', '1,000+', 'Free', '0', 'Everyone', '', 'February 11, 2018', '1.0.19', '4.0 and up']\n",
            "\n",
            "\n",
            "Index position is: 10472\n"
          ]
        }
      ],
      "source": [
        "#  Data cleaning for GooglePlay\n",
        "\n",
        "print(len(android_header))\n",
        "for row in android[1:]:\n",
        "    if len(row) != len(android_header):\n",
        "        print(row)\n",
        "        print('\\n')\n",
        "        print('Index position is:', android.index(row))"
      ]
    },
    {
      "cell_type": "markdown",
      "source": [
        "There is a missing column in the row number 10472. We will remove it from the dataset."
      ],
      "metadata": {
        "id": "Qgrt1MHuOc8g"
      }
    },
    {
      "cell_type": "code",
      "execution_count": null,
      "metadata": {
        "id": "xBKd6FgjNJcc",
        "outputId": "1e3687e9-dbfa-46dc-bba2-933344c29e1d"
      },
      "outputs": [
        {
          "name": "stdout",
          "output_type": "stream",
          "text": [
            "Before:  10841\n",
            "After:  10840\n"
          ]
        }
      ],
      "source": [
        "#  There is a missing value in row 10472. Therefore, we will delete it\n",
        "\n",
        "print('Before: ', len(android))\n",
        "del android[10472]\n",
        "print('After: ', len(android))"
      ]
    },
    {
      "cell_type": "markdown",
      "source": [
        "Now we have total of 10840 rows in Android dataset"
      ],
      "metadata": {
        "id": "4giuSTmeOj0E"
      }
    },
    {
      "cell_type": "code",
      "execution_count": null,
      "metadata": {
        "id": "_UqZVZ06NJcc",
        "outputId": "df81c441-b806-405e-95b2-a008c3c90930"
      },
      "outputs": [
        {
          "name": "stdout",
          "output_type": "stream",
          "text": [
            "16\n"
          ]
        }
      ],
      "source": [
        "#  Data cleaning for IoS\n",
        "\n",
        "print(len(ios_header))\n",
        "for row in ios[1:]:\n",
        "    if len(row) != len(ios_header):\n",
        "        print(row)\n",
        "        print('\\n')\n",
        "        print('Index position is:', ios.index(row)) "
      ]
    },
    {
      "cell_type": "markdown",
      "source": [
        "As we can see from the output above, there are no issues in IOS data in terms of missing columns"
      ],
      "metadata": {
        "id": "1DrEGoYoOILL"
      }
    },
    {
      "cell_type": "markdown",
      "source": [
        "## Dublicate Values"
      ],
      "metadata": {
        "id": "8w1qCpjlPBE8"
      }
    },
    {
      "cell_type": "markdown",
      "source": [
        "Now, let's see if there are any dublicate values."
      ],
      "metadata": {
        "id": "nm123iq2PKFY"
      }
    },
    {
      "cell_type": "code",
      "execution_count": null,
      "metadata": {
        "id": "hGeWKPKwNJcf",
        "outputId": "30b21a0b-beca-4be3-80ea-6afda8f3cfab"
      },
      "outputs": [
        {
          "name": "stdout",
          "output_type": "stream",
          "text": [
            "Number of dublicated apps:  1181\n",
            "Examples: ['Quick PDF Scanner + OCR FREE', 'Box', 'Google My Business', 'ZOOM Cloud Meetings', 'join.me - Simple Meetings']\n"
          ]
        }
      ],
      "source": [
        "#  Removing dublicate apps\n",
        "dublicated_apps = []\n",
        "unique_apps = []\n",
        "\n",
        "for app in android:\n",
        "    name = app[0]\n",
        "    if name in unique_apps:\n",
        "        dublicated_apps.append(name)\n",
        "    else:\n",
        "        unique_apps.append(name)\n",
        "\n",
        "print('Number of dublicated apps: ', len(dublicated_apps))\n",
        "print('Examples:', dublicated_apps[:5])"
      ]
    },
    {
      "cell_type": "markdown",
      "source": [
        "There are 1181 dublicate values. As we can see from the example above, app like \"Google My Business\" appears few times in the dataset, but has different value in reviews. Our aim is to find dublicate apps with the highest review value and remove all the rest (dublicate apps)."
      ],
      "metadata": {
        "id": "yCuevR8XQP98"
      }
    },
    {
      "cell_type": "code",
      "execution_count": null,
      "metadata": {
        "id": "LbrZsavkNJcg"
      },
      "outputs": [],
      "source": [
        "reviews_max = {}\n",
        "\n",
        "for app in android:\n",
        "    name = app[0]\n",
        "    n_reviews = float(app[3])\n",
        "    if name in reviews_max and reviews_max[name] < n_reviews:\n",
        "        reviews_max[name] = n_reviews\n",
        "    elif name not in reviews_max:\n",
        "        reviews_max[name] = n_reviews"
      ]
    },
    {
      "cell_type": "markdown",
      "source": [
        "After we removed all dublicate values in Android dataset, let's see whether the actual length is the same as expected."
      ],
      "metadata": {
        "id": "-m7J17w3QXgj"
      }
    },
    {
      "cell_type": "code",
      "execution_count": null,
      "metadata": {
        "id": "anKpBPyCNJch",
        "outputId": "3d4b021f-871e-4073-df50-90fb7d8565f0"
      },
      "outputs": [
        {
          "name": "stdout",
          "output_type": "stream",
          "text": [
            "Expected length: 9659\n",
            "Actual length: 9659\n"
          ]
        }
      ],
      "source": [
        "print('Expected length:', len(android) - 1181)\n",
        "print('Actual length:', len(reviews_max))"
      ]
    },
    {
      "cell_type": "markdown",
      "source": [
        "Now, we have to update our Android table. We will make a new empty list and use for loop to iterate through the whole dataset and upload all values into the new list of lists called \"android_clean\". "
      ],
      "metadata": {
        "id": "8hq9BXbCRAZM"
      }
    },
    {
      "cell_type": "code",
      "execution_count": null,
      "metadata": {
        "id": "l6kNJrdYNJci"
      },
      "outputs": [],
      "source": [
        "android_clean = []\n",
        "already_added = []\n",
        "\n",
        "for app in android:\n",
        "    name = app[0]\n",
        "    n_reviews = float(app[3])\n",
        "    \n",
        "    if (reviews_max[name]==n_reviews) and (name not in already_added):\n",
        "        android_clean.append(app)\n",
        "        already_added.append(name)"
      ]
    },
    {
      "cell_type": "markdown",
      "source": [
        "Lets use our \"explore_data\" function to get insights about cleaned Android data"
      ],
      "metadata": {
        "id": "URUaicymRtV4"
      }
    },
    {
      "cell_type": "code",
      "execution_count": null,
      "metadata": {
        "id": "QMFN0bH9NJcj",
        "outputId": "fe1701b4-dc11-4f00-bc0d-ebe743b61012"
      },
      "outputs": [
        {
          "name": "stdout",
          "output_type": "stream",
          "text": [
            "['Photo Editor & Candy Camera & Grid & ScrapBook', 'ART_AND_DESIGN', '4.1', '159', '19M', '10,000+', 'Free', '0', 'Everyone', 'Art & Design', 'January 7, 2018', '1.0.0', '4.0.3 and up']\n",
            "\n",
            "\n",
            "['U Launcher Lite – FREE Live Cool Themes, Hide Apps', 'ART_AND_DESIGN', '4.7', '87510', '8.7M', '5,000,000+', 'Free', '0', 'Everyone', 'Art & Design', 'August 1, 2018', '1.2.4', '4.0.3 and up']\n",
            "\n",
            "\n",
            "['Sketch - Draw & Paint', 'ART_AND_DESIGN', '4.5', '215644', '25M', '50,000,000+', 'Free', '0', 'Teen', 'Art & Design', 'June 8, 2018', 'Varies with device', '4.2 and up']\n",
            "\n",
            "\n",
            "['Pixel Draw - Number Art Coloring Book', 'ART_AND_DESIGN', '4.3', '967', '2.8M', '100,000+', 'Free', '0', 'Everyone', 'Art & Design;Creativity', 'June 20, 2018', '1.1', '4.4 and up']\n",
            "\n",
            "\n",
            "Number of rows: 9659\n",
            "Number of columns: 13\n"
          ]
        }
      ],
      "source": [
        "explore_data(android_clean, 0, 4, True)"
      ]
    },
    {
      "cell_type": "markdown",
      "source": [
        "Same steps are applied for IOS dataset"
      ],
      "metadata": {
        "id": "Ztr6FuadR1nV"
      }
    },
    {
      "cell_type": "code",
      "execution_count": null,
      "metadata": {
        "id": "9e8TesmLNJcj",
        "outputId": "c0ca5681-4be1-4d42-c8cf-433a4a2d3657"
      },
      "outputs": [
        {
          "name": "stdout",
          "output_type": "stream",
          "text": [
            "Number of dublicated apps:  0\n"
          ]
        }
      ],
      "source": [
        "#  Let's see if there are any dublicated apps in IoS file\n",
        "dublicated_apps2 = []\n",
        "unique_apps2 = []\n",
        "\n",
        "for app in ios:\n",
        "    name = app[0]\n",
        "    if name in unique_apps2:\n",
        "        dublicated_apps2.append(name)\n",
        "    else:\n",
        "        unique_apps2.append(name)\n",
        "        \n",
        "print('Number of dublicated apps: ', len(dublicated_apps2))"
      ]
    },
    {
      "cell_type": "markdown",
      "source": [
        "As it can be seen from the output above, there are no dublicate apps in IOS dataset."
      ],
      "metadata": {
        "id": "yEunfbyqR72I"
      }
    },
    {
      "cell_type": "markdown",
      "source": [
        "# Non-English Named Apps"
      ],
      "metadata": {
        "id": "wYYUmLKXSEPl"
      }
    },
    {
      "cell_type": "markdown",
      "source": [
        "Some of the data is non-English, so let's try to remove it. We'll write a function that takes a string as an argument and checks whether the characters match english alphabet or not. English alphabet letters are in ASCII range from 0 to 127. Therefore, everything that is above 127 is considered as non-english."
      ],
      "metadata": {
        "id": "EdbAlA1vSKZ7"
      }
    },
    {
      "cell_type": "code",
      "execution_count": null,
      "metadata": {
        "id": "uG2trsx-NJcm",
        "outputId": "9cf8710e-5701-4a9f-8834-4656eb032885"
      },
      "outputs": [
        {
          "name": "stdout",
          "output_type": "stream",
          "text": [
            "False\n",
            "True\n",
            "True\n"
          ]
        }
      ],
      "source": [
        "def language_check(string):\n",
        "    \n",
        "    for char in string:\n",
        "        if ord(char) > 127:\n",
        "            return False\n",
        "        else: \n",
        "            return True\n",
        "#  Example\n",
        "print(language_check('Обработка фото'))\n",
        "print(language_check('Photoshop'))\n",
        "print(language_check('Funny App :)'))"
      ]
    },
    {
      "cell_type": "markdown",
      "source": [
        "Some apps use characters that fall outside the ASCII range (0 - 127). To solve this problem we will allow up to 3 non-English characters in the app name."
      ],
      "metadata": {
        "id": "MNuQXYSHTL9m"
      }
    },
    {
      "cell_type": "code",
      "execution_count": 1,
      "metadata": {
        "colab": {
          "base_uri": "https://localhost:8080/"
        },
        "id": "JFe01DYGNJco",
        "outputId": "3fbef363-137e-4d0b-95ea-e0a14eb45c5b"
      },
      "outputs": [
        {
          "output_type": "stream",
          "name": "stdout",
          "text": [
            "True\n",
            "True\n",
            "False\n"
          ]
        }
      ],
      "source": [
        "#  Let's change the previous function little bit\n",
        "def language_check(string):\n",
        "    non_char = 0\n",
        "    \n",
        "    for char in string:\n",
        "        if ord(char) > 127:\n",
        "            non_char += 1\n",
        "    \n",
        "    if non_char > 3:\n",
        "        return False\n",
        "    else:\n",
        "        return True\n",
        "    \n",
        "print(language_check('Docs To Go™ Free Office Suite'))\n",
        "print(language_check('Instachat 😜'))\n",
        "print(language_check('Название приложения'))"
      ]
    },
    {
      "cell_type": "markdown",
      "source": [
        "Let's use this function to filter our datasets."
      ],
      "metadata": {
        "id": "NSmV4YgsTa-K"
      }
    },
    {
      "cell_type": "code",
      "execution_count": null,
      "metadata": {
        "scrolled": false,
        "id": "L8jy6FR3NJcp",
        "outputId": "0ef748a5-7cd7-4534-cc2f-855e03365cbd"
      },
      "outputs": [
        {
          "name": "stdout",
          "output_type": "stream",
          "text": [
            "['Photo Editor & Candy Camera & Grid & ScrapBook', 'ART_AND_DESIGN', '4.1', '159', '19M', '10,000+', 'Free', '0', 'Everyone', 'Art & Design', 'January 7, 2018', '1.0.0', '4.0.3 and up']\n",
            "\n",
            "\n",
            "['U Launcher Lite – FREE Live Cool Themes, Hide Apps', 'ART_AND_DESIGN', '4.7', '87510', '8.7M', '5,000,000+', 'Free', '0', 'Everyone', 'Art & Design', 'August 1, 2018', '1.2.4', '4.0.3 and up']\n",
            "\n",
            "\n",
            "['Sketch - Draw & Paint', 'ART_AND_DESIGN', '4.5', '215644', '25M', '50,000,000+', 'Free', '0', 'Teen', 'Art & Design', 'June 8, 2018', 'Varies with device', '4.2 and up']\n",
            "\n",
            "\n",
            "Number of rows: 9614\n",
            "Number of columns: 13\n",
            "\n",
            "\n",
            "['284882215', 'Facebook', '389879808', 'USD', '0.0', '2974676', '212', '3.5', '3.5', '95.0', '4+', 'Social Networking', '37', '1', '29', '1']\n",
            "\n",
            "\n",
            "['389801252', 'Instagram', '113954816', 'USD', '0.0', '2161558', '1289', '4.5', '4.0', '10.23', '12+', 'Photo & Video', '37', '0', '29', '1']\n",
            "\n",
            "\n",
            "['529479190', 'Clash of Clans', '116476928', 'USD', '0.0', '2130805', '579', '4.5', '4.5', '9.24.12', '9+', 'Games', '38', '5', '18', '1']\n",
            "\n",
            "\n",
            "Number of rows: 6183\n",
            "Number of columns: 16\n"
          ]
        }
      ],
      "source": [
        "ios_updated = []\n",
        "android_updated = []\n",
        "\n",
        "for app in ios:\n",
        "    name = app[1]\n",
        "    if language_check(name):\n",
        "        ios_updated.append(app)\n",
        "        \n",
        "for app in android_clean:\n",
        "    name = app[0]\n",
        "    if language_check(name):\n",
        "        android_updated.append(app)\n",
        "\n",
        "explore_data(android_updated, 0, 3, True)\n",
        "print('\\n')\n",
        "explore_data(ios_updated, 0, 3, True)"
      ]
    },
    {
      "cell_type": "markdown",
      "source": [
        "We are left with 9614 Android apps and 6183 IOS apps.\n",
        "\n",
        "  The following was removed so far:\n",
        "\n",
        "1.   Inaccurate data \n",
        "2.   Dublicate data \n",
        "3.   non-English data\n"
      ],
      "metadata": {
        "id": "NdAZcs8DTik_"
      }
    },
    {
      "cell_type": "markdown",
      "source": [
        "# Free Apps"
      ],
      "metadata": {
        "id": "VbZBZcqAT8MH"
      }
    },
    {
      "cell_type": "markdown",
      "source": [
        "Now we have to leave only free apps in both datasets. To achieve this result we will make a new empty lists and use for loop to iterate through the whole dataset in order to get rid of paid apps."
      ],
      "metadata": {
        "id": "a3Rwa7i7T_Rf"
      }
    },
    {
      "cell_type": "code",
      "execution_count": null,
      "metadata": {
        "id": "_LlBcubFNJcr",
        "outputId": "23433da8-d9b5-4405-fe0f-d04525584e6a"
      },
      "outputs": [
        {
          "name": "stdout",
          "output_type": "stream",
          "text": [
            "8863\n",
            "3222\n"
          ]
        }
      ],
      "source": [
        "android_free = []\n",
        "ios_free = []\n",
        "\n",
        "for app in ios_updated:\n",
        "    price = app[4]\n",
        "    if price == '0.0':\n",
        "        ios_free.append(app)\n",
        "\n",
        "for app in android_updated:\n",
        "    price = app[6]\n",
        "    if price == 'Free':\n",
        "        android_free.append(app)\n",
        "#  Let's see how many data left after leaving only free apps in the dataset\n",
        "\n",
        "print(len(android_free))\n",
        "print(len(ios_free))"
      ]
    },
    {
      "cell_type": "code",
      "execution_count": null,
      "metadata": {
        "id": "wqbiu1JCNJcr"
      },
      "outputs": [],
      "source": [
        "#To minimize risks and overhead, our validation strategy for an app idea has three steps:\n",
        "\n",
        "    #Build a minimal Android version of the app, and add it to Google Play.\n",
        "    #If the app has a good response from users, we develop it further.\n",
        "    #If the app is profitable after six months, we build an iOS version of the app and add it to the App Store.\n",
        "\n",
        "#Because our end goal is to add the app on both Google Play and the App Store, we need to find app profiles that are successful in both markets. For instance, a profile that works well for both markets might be a productivity app that makes use of gamification."
      ]
    },
    {
      "cell_type": "markdown",
      "source": [
        "To minimize risks and overhead, our validation strategy for an app idea has three steps:\n",
        "\n",
        "1.   Build a minimal Android version of the app, and add it to Google Play.\n",
        "2.   If the app has a good response from users, we develop it further.\n",
        "3.   If the app is profitable after six months, we build an iOS version of the app and add it to the App Store.\n",
        "    \n",
        "\n",
        "Because our end goal is to add the app on both Google Play and the App Store, we need to find app profiles that are successful in both markets. For instance, a profile that works well for both markets might be a productivity app that makes use of gamification."
      ],
      "metadata": {
        "id": "MnhhFXYFUh_8"
      }
    },
    {
      "cell_type": "code",
      "execution_count": null,
      "metadata": {
        "id": "yfT8rLwCNJcr",
        "outputId": "1193e51b-0f7c-478c-cfaf-74a8b57421fd"
      },
      "outputs": [
        {
          "name": "stdout",
          "output_type": "stream",
          "text": [
            "['id', 'track_name', 'size_bytes', 'currency', 'price', 'rating_count_tot', 'rating_count_ver', 'user_rating', 'user_rating_ver', 'ver', 'cont_rating', 'prime_genre', 'sup_devices.num', 'ipadSc_urls.num', 'lang.num', 'vpp_lic']\n",
            "\n",
            "\n",
            "['App', 'Category', 'Rating', 'Reviews', 'Size', 'Installs', 'Type', 'Price', 'Content Rating', 'Genres', 'Last Updated', 'Current Ver', 'Android Ver']\n"
          ]
        }
      ],
      "source": [
        "#  Let's check what column should we focus on\n",
        "\n",
        "print(ios_header)\n",
        "print('\\n')\n",
        "print(android_header)\n",
        "\n",
        "#  For IOS it is: prime_genre\n",
        "#  For Android it is: Category and Genres"
      ]
    },
    {
      "cell_type": "markdown",
      "source": [
        "Now we will build a frequency table to determine the most popular app genre in descending order."
      ],
      "metadata": {
        "id": "zzqDQYwXU0sa"
      }
    },
    {
      "cell_type": "code",
      "execution_count": null,
      "metadata": {
        "id": "UFDjeeepNJcs"
      },
      "outputs": [],
      "source": [
        "def freq_table(dataset, index):\n",
        "    table = {}\n",
        "    total = 0\n",
        "    \n",
        "    for row in dataset:\n",
        "        total += 1\n",
        "        value = row[index]\n",
        "        \n",
        "        if value in table:\n",
        "            table[value] += 1\n",
        "        else:\n",
        "            table[value] = 1\n",
        "    \n",
        "    table_percentages = {}\n",
        "    for key in table:\n",
        "        percentage = (table[key] / total)*100\n",
        "        table_percentages[key] = percentage\n",
        "    \n",
        "    return table_percentages\n",
        "\n",
        "def display_table(dataset, index):\n",
        "    table = freq_table(dataset, index)\n",
        "    table_display = []\n",
        "    for key in table:\n",
        "        key_val_as_tuple = (table[key], key)\n",
        "        table_display.append(key_val_as_tuple)\n",
        "    \n",
        "    table_sorted = sorted(table_display, reverse = True)\n",
        "    for entry in table_sorted:\n",
        "        print(entry[1], ':', entry[0])"
      ]
    },
    {
      "cell_type": "markdown",
      "source": [
        "Let's run this function for IOS dataset."
      ],
      "metadata": {
        "id": "w1NfmKuxVBOK"
      }
    },
    {
      "cell_type": "code",
      "execution_count": null,
      "metadata": {
        "id": "547TUPtGNJct",
        "outputId": "ff39c671-03ef-4192-ce5c-9d29324c2860"
      },
      "outputs": [
        {
          "name": "stdout",
          "output_type": "stream",
          "text": [
            "Games : 58.16263190564867\n",
            "Entertainment : 7.883302296710118\n",
            "Photo & Video : 4.9658597144630665\n",
            "Education : 3.662321539416512\n",
            "Social Networking : 3.2898820608317814\n",
            "Shopping : 2.60707635009311\n",
            "Utilities : 2.5139664804469275\n",
            "Sports : 2.1415270018621975\n",
            "Music : 2.0484171322160147\n",
            "Health & Fitness : 2.0173805090006205\n",
            "Productivity : 1.7380509000620732\n",
            "Lifestyle : 1.5828677839851024\n",
            "News : 1.3345747982619491\n",
            "Travel : 1.2414649286157666\n",
            "Finance : 1.1173184357541899\n",
            "Weather : 0.8690254500310366\n",
            "Food & Drink : 0.8069522036002483\n",
            "Reference : 0.5586592178770949\n",
            "Business : 0.5276225946617008\n",
            "Book : 0.4345127250155183\n",
            "Navigation : 0.186219739292365\n",
            "Medical : 0.186219739292365\n",
            "Catalogs : 0.12414649286157665\n"
          ]
        }
      ],
      "source": [
        "display_table(ios_free, -5)"
      ]
    },
    {
      "cell_type": "markdown",
      "source": [
        "As we can see, among all free English apps, 58.16% are games, while entertainment apps are almost 8%. Photo and video apps are close to 5%. Education genre is 3.66%, while social networking apps are 3.29%.\n",
        "\n",
        "The overall thought is that the App Store is influenced by apps designed for entertainment (games, entertainment, photo and video, social networking, etc).\n",
        "Nevertheless, just because there are a lot of fun apps doesn't mean there are a lot of people using them – demand and supply may not be equal. \n",
        "\n",
        "Now let us check GooglePlay dataset, namely Genres and Category columns."
      ],
      "metadata": {
        "id": "v1debVewVHTz"
      }
    },
    {
      "cell_type": "code",
      "execution_count": null,
      "metadata": {
        "id": "RXG7f2mwNJcv",
        "outputId": "91e8f6a5-e9e7-4490-8c29-599ea297c4ec"
      },
      "outputs": [
        {
          "name": "stdout",
          "output_type": "stream",
          "text": [
            "FAMILY : 18.898792733837304\n",
            "GAME : 9.725826469592688\n",
            "TOOLS : 8.462146000225657\n",
            "BUSINESS : 4.592124562789123\n",
            "LIFESTYLE : 3.9038700214374367\n",
            "PRODUCTIVITY : 3.8925871601038025\n",
            "FINANCE : 3.7007785174320205\n",
            "MEDICAL : 3.5315355974275078\n",
            "SPORTS : 3.396141261423897\n",
            "PERSONALIZATION : 3.317161232088458\n",
            "COMMUNICATION : 3.2381812027530184\n",
            "HEALTH_AND_FITNESS : 3.0802211440821394\n",
            "PHOTOGRAPHY : 2.944826808078529\n",
            "NEWS_AND_MAGAZINES : 2.798149610741284\n",
            "SOCIAL : 2.6627552747376737\n",
            "TRAVEL_AND_LOCAL : 2.335552296062281\n",
            "SHOPPING : 2.245289405393208\n",
            "BOOKS_AND_REFERENCE : 2.1437436533904997\n",
            "DATING : 1.8616721200496444\n",
            "VIDEO_PLAYERS : 1.7939749520478394\n",
            "MAPS_AND_NAVIGATION : 1.399074805370642\n",
            "FOOD_AND_DRINK : 1.241114746699763\n",
            "EDUCATION : 1.1621347173643235\n",
            "ENTERTAINMENT : 0.9590432133589079\n",
            "LIBRARIES_AND_DEMO : 0.9364774906916393\n",
            "AUTO_AND_VEHICLES : 0.9251946293580051\n",
            "HOUSE_AND_HOME : 0.8236488773552973\n",
            "WEATHER : 0.8010831546880289\n",
            "EVENTS : 0.7108202640189552\n",
            "PARENTING : 0.6544059573507841\n",
            "ART_AND_DESIGN : 0.6431230960171499\n",
            "COMICS : 0.6205573733498815\n",
            "BEAUTY : 0.5979916506826132\n"
          ]
        }
      ],
      "source": [
        "display_table(android_free, 1)"
      ]
    },
    {
      "cell_type": "markdown",
      "source": [
        "The landscape seems significantly different on Google Play: there are not that many apps designed for fun, and it seems that a good number of apps are designed for practical purposes (family, tools, business, lifestyle, productivity, etc.). \n",
        "\n",
        "Compared to IOS data, GooglePlay is significantly different. There are not that much apps designed for fun and apps developed for practical purposes are popular (family, tools, business, lifestyle, finance, etc.).\n",
        "\n",
        "However, a closer examination reveals that the family category (which accounts for over 19 percent of all apps) primarily consists of children's games. Despite this, practical apps appear to have a stronger presence on Google Play than on the App Store.\n",
        "The frequency table for the Genres column also supports this conclusion: "
      ],
      "metadata": {
        "id": "tYWy5v-AW5lO"
      }
    },
    {
      "cell_type": "code",
      "execution_count": null,
      "metadata": {
        "id": "kA61FfgVNJcw",
        "outputId": "cb5f2c75-4660-418c-8d71-302e1779f96b"
      },
      "outputs": [
        {
          "name": "stdout",
          "output_type": "stream",
          "text": [
            "Tools : 8.450863138892023\n",
            "Entertainment : 6.070179397495204\n",
            "Education : 5.348076272142616\n",
            "Business : 4.592124562789123\n",
            "Productivity : 3.8925871601038025\n",
            "Lifestyle : 3.8925871601038025\n",
            "Finance : 3.7007785174320205\n",
            "Medical : 3.5315355974275078\n",
            "Sports : 3.463838429425702\n",
            "Personalization : 3.317161232088458\n",
            "Communication : 3.2381812027530184\n",
            "Action : 3.102786866749408\n",
            "Health & Fitness : 3.0802211440821394\n",
            "Photography : 2.944826808078529\n",
            "News & Magazines : 2.798149610741284\n",
            "Social : 2.6627552747376737\n",
            "Travel & Local : 2.324269434728647\n",
            "Shopping : 2.245289405393208\n",
            "Books & Reference : 2.1437436533904997\n",
            "Simulation : 2.042197901387792\n",
            "Dating : 1.8616721200496444\n",
            "Arcade : 1.8503892587160102\n",
            "Video Players & Editors : 1.771409229380571\n",
            "Casual : 1.7601263680469368\n",
            "Maps & Navigation : 1.399074805370642\n",
            "Food & Drink : 1.241114746699763\n",
            "Puzzle : 1.128286133363421\n",
            "Racing : 0.9928917973598104\n",
            "Role Playing : 0.9364774906916393\n",
            "Libraries & Demo : 0.9364774906916393\n",
            "Auto & Vehicles : 0.9251946293580051\n",
            "Strategy : 0.9026289066907368\n",
            "House & Home : 0.8236488773552973\n",
            "Weather : 0.8010831546880289\n",
            "Events : 0.7108202640189552\n",
            "Adventure : 0.6769716800180525\n",
            "Comics : 0.6092745120162473\n",
            "Beauty : 0.5979916506826132\n",
            "Art & Design : 0.5979916506826132\n",
            "Parenting : 0.4964458986799052\n",
            "Card : 0.4513144533453684\n",
            "Casino : 0.42874873067809993\n",
            "Trivia : 0.4174658693444658\n",
            "Educational;Education : 0.3949001466771973\n",
            "Board : 0.38361728534356315\n",
            "Educational : 0.37233442400992894\n",
            "Education;Education : 0.33848584000902626\n",
            "Word : 0.25950581067358686\n",
            "Casual;Pretend Play : 0.2369400880063184\n",
            "Music : 0.20309150400541578\n",
            "Racing;Action & Adventure : 0.16924292000451313\n",
            "Puzzle;Brain Games : 0.16924292000451313\n",
            "Entertainment;Music & Video : 0.16924292000451313\n",
            "Casual;Brain Games : 0.1353943360036105\n",
            "Casual;Action & Adventure : 0.1353943360036105\n",
            "Arcade;Action & Adventure : 0.1241114746699763\n",
            "Action;Action & Adventure : 0.10154575200270789\n",
            "Educational;Pretend Play : 0.09026289066907367\n",
            "Simulation;Action & Adventure : 0.07898002933543948\n",
            "Parenting;Education : 0.07898002933543948\n",
            "Entertainment;Brain Games : 0.07898002933543948\n",
            "Board;Brain Games : 0.07898002933543948\n",
            "Parenting;Music & Video : 0.06769716800180525\n",
            "Educational;Brain Games : 0.06769716800180525\n",
            "Casual;Creativity : 0.06769716800180525\n",
            "Art & Design;Creativity : 0.06769716800180525\n",
            "Education;Pretend Play : 0.05641430666817105\n",
            "Role Playing;Pretend Play : 0.045131445334536835\n",
            "Education;Creativity : 0.045131445334536835\n",
            "Role Playing;Action & Adventure : 0.033848584000902626\n",
            "Puzzle;Action & Adventure : 0.033848584000902626\n",
            "Entertainment;Creativity : 0.033848584000902626\n",
            "Entertainment;Action & Adventure : 0.033848584000902626\n",
            "Educational;Creativity : 0.033848584000902626\n",
            "Educational;Action & Adventure : 0.033848584000902626\n",
            "Education;Music & Video : 0.033848584000902626\n",
            "Education;Brain Games : 0.033848584000902626\n",
            "Education;Action & Adventure : 0.033848584000902626\n",
            "Adventure;Action & Adventure : 0.033848584000902626\n",
            "Video Players & Editors;Music & Video : 0.022565722667268417\n",
            "Sports;Action & Adventure : 0.022565722667268417\n",
            "Simulation;Pretend Play : 0.022565722667268417\n",
            "Puzzle;Creativity : 0.022565722667268417\n",
            "Music;Music & Video : 0.022565722667268417\n",
            "Entertainment;Pretend Play : 0.022565722667268417\n",
            "Casual;Education : 0.022565722667268417\n",
            "Board;Action & Adventure : 0.022565722667268417\n",
            "Video Players & Editors;Creativity : 0.011282861333634209\n",
            "Trivia;Education : 0.011282861333634209\n",
            "Travel & Local;Action & Adventure : 0.011282861333634209\n",
            "Tools;Education : 0.011282861333634209\n",
            "Strategy;Education : 0.011282861333634209\n",
            "Strategy;Creativity : 0.011282861333634209\n",
            "Strategy;Action & Adventure : 0.011282861333634209\n",
            "Simulation;Education : 0.011282861333634209\n",
            "Role Playing;Brain Games : 0.011282861333634209\n",
            "Racing;Pretend Play : 0.011282861333634209\n",
            "Puzzle;Education : 0.011282861333634209\n",
            "Parenting;Brain Games : 0.011282861333634209\n",
            "Music & Audio;Music & Video : 0.011282861333634209\n",
            "Lifestyle;Pretend Play : 0.011282861333634209\n",
            "Lifestyle;Education : 0.011282861333634209\n",
            "Health & Fitness;Education : 0.011282861333634209\n",
            "Health & Fitness;Action & Adventure : 0.011282861333634209\n",
            "Entertainment;Education : 0.011282861333634209\n",
            "Communication;Creativity : 0.011282861333634209\n",
            "Comics;Creativity : 0.011282861333634209\n",
            "Casual;Music & Video : 0.011282861333634209\n",
            "Card;Action & Adventure : 0.011282861333634209\n",
            "Books & Reference;Education : 0.011282861333634209\n",
            "Art & Design;Pretend Play : 0.011282861333634209\n",
            "Art & Design;Action & Adventure : 0.011282861333634209\n",
            "Arcade;Pretend Play : 0.011282861333634209\n",
            "Adventure;Education : 0.011282861333634209\n"
          ]
        }
      ],
      "source": [
        "display_table(android_free, -4)"
      ]
    },
    {
      "cell_type": "markdown",
      "source": [
        "The difference between Genres and Category columns is that Genres column is much more precise and has more categories covered.\n",
        "Since we are interested in overall picture, we will use Category column as a reference, instead of Genres.\n",
        "\n",
        "It was discovered that AppStore is dominated by games and fun apps, whereas Google Play has a more divided mix of practical and fun apps.\n",
        "\n",
        "Let's find out what kind of apps have the most number of users. "
      ],
      "metadata": {
        "id": "hgqGso_OXyi4"
      }
    },
    {
      "cell_type": "markdown",
      "source": [
        "Firstly, we will calculate the average number of user ratings per app genre in AppStore. \n",
        "\n",
        "Below are the steps:\n",
        "\n",
        "1.   Segregate the apps of each genre\n",
        "2.   Sum up the user ratings for the apps of that genre\n",
        "3.   Divide the sum by the number of apps belonging to that genre"
      ],
      "metadata": {
        "id": "K2MxeeXOYr3l"
      }
    },
    {
      "cell_type": "code",
      "execution_count": null,
      "metadata": {
        "id": "uiNjMLRdNJcy",
        "outputId": "a7c81477-fd3d-47c3-907d-6f4e506df234"
      },
      "outputs": [
        {
          "name": "stdout",
          "output_type": "stream",
          "text": [
            "Social Networking : 71548.34905660378\n",
            "Photo & Video : 28441.54375\n",
            "Games : 22788.6696905016\n",
            "Music : 57326.530303030304\n",
            "Reference : 74942.11111111111\n",
            "Health & Fitness : 23298.015384615384\n",
            "Weather : 52279.892857142855\n",
            "Utilities : 18684.456790123455\n",
            "Travel : 28243.8\n",
            "Shopping : 26919.690476190477\n",
            "News : 21248.023255813954\n",
            "Navigation : 86090.33333333333\n",
            "Lifestyle : 16485.764705882353\n",
            "Entertainment : 14029.830708661417\n",
            "Food & Drink : 33333.92307692308\n",
            "Sports : 23008.898550724636\n",
            "Book : 39758.5\n",
            "Finance : 31467.944444444445\n",
            "Education : 7003.983050847458\n",
            "Productivity : 21028.410714285714\n",
            "Business : 7491.117647058823\n",
            "Catalogs : 4004.0\n",
            "Medical : 612.0\n"
          ]
        }
      ],
      "source": [
        "ios_genres = freq_table(ios_free, -5)\n",
        "\n",
        "for genre in ios_genres:\n",
        "    total = 0  #  number of ratings, not the actual ratings\n",
        "    len_genre = 0  #  number of apps of a specific genre\n",
        "    \n",
        "    for app in ios_free:\n",
        "        genre_app = app[-5]\n",
        "        if genre_app == genre:\n",
        "            ratings = float(app[5])\n",
        "            total += ratings\n",
        "            len_genre += 1\n",
        "    \n",
        "    avg_rating = total/len_genre\n",
        "    print(genre, ':', avg_rating)"
      ]
    },
    {
      "cell_type": "markdown",
      "source": [
        "We can conclude that Social networking, Photo and Video, and Games categories are one of the most popular fields in AppStore.\n",
        "\n",
        "Let's analyze GooglePlay now."
      ],
      "metadata": {
        "id": "K8e5INZWZkKd"
      }
    },
    {
      "cell_type": "code",
      "execution_count": null,
      "metadata": {
        "id": "Jj-AwEzqNJcz",
        "outputId": "6809aed3-88e0-4683-e5dd-fcbe02d209a6"
      },
      "outputs": [
        {
          "name": "stdout",
          "output_type": "stream",
          "text": [
            "1,000,000+ : 15.728308699086089\n",
            "100,000+ : 11.55365000564143\n",
            "10,000,000+ : 10.549475346947986\n",
            "10,000+ : 10.199706645605326\n",
            "1,000+ : 8.394448832223853\n",
            "100+ : 6.916393997517771\n",
            "5,000,000+ : 6.826131106848697\n",
            "500,000+ : 5.562450637481666\n",
            "50,000+ : 4.772650344127271\n",
            "5,000+ : 4.513144533453684\n",
            "10+ : 3.542818458761142\n",
            "500+ : 3.2494640640866526\n",
            "50,000,000+ : 2.3017037120613786\n",
            "100,000,000+ : 2.1324607920568655\n",
            "50+ : 1.9180864267178157\n",
            "5+ : 0.7898002933543946\n",
            "1+ : 0.5077287600135394\n",
            "500,000,000+ : 0.270788672007221\n",
            "1,000,000,000+ : 0.2256572266726842\n",
            "0+ : 0.045131445334536835\n"
          ]
        }
      ],
      "source": [
        "display_table(android_free, 5) # the Installs columns"
      ]
    },
    {
      "cell_type": "markdown",
      "source": [
        "To avoid calculation errors, we need to convert each install number to float, by removing commas and plus characters.\n",
        "We will achieve this result in the loop below, at the same time we will calculate the average number of installs for each app genre."
      ],
      "metadata": {
        "id": "kZsJXoaqZyd-"
      }
    },
    {
      "cell_type": "code",
      "execution_count": null,
      "metadata": {
        "id": "kf9RziFcNJc0",
        "outputId": "158c47bb-ece1-4d1e-b5ce-e0a5991ee7d1"
      },
      "outputs": [
        {
          "name": "stdout",
          "output_type": "stream",
          "text": [
            "ART_AND_DESIGN : 1986335.0877192982\n",
            "AUTO_AND_VEHICLES : 647317.8170731707\n",
            "BEAUTY : 513151.88679245283\n",
            "BOOKS_AND_REFERENCE : 8767811.894736841\n",
            "BUSINESS : 1712290.1474201474\n",
            "COMICS : 817657.2727272727\n",
            "COMMUNICATION : 38456119.167247385\n",
            "DATING : 854028.8303030303\n",
            "EDUCATION : 1833495.145631068\n",
            "ENTERTAINMENT : 11640705.88235294\n",
            "EVENTS : 253542.22222222222\n",
            "FINANCE : 1387692.475609756\n",
            "FOOD_AND_DRINK : 1924897.7363636363\n",
            "HEALTH_AND_FITNESS : 4188821.9853479853\n",
            "HOUSE_AND_HOME : 1331540.5616438356\n",
            "LIBRARIES_AND_DEMO : 638503.734939759\n",
            "LIFESTYLE : 1437816.2687861272\n",
            "GAME : 15588015.603248259\n",
            "FAMILY : 3697848.1731343283\n",
            "MEDICAL : 120550.61980830671\n",
            "SOCIAL : 23253652.127118643\n",
            "SHOPPING : 7036877.311557789\n",
            "PHOTOGRAPHY : 17840110.40229885\n",
            "SPORTS : 3638640.1428571427\n",
            "TRAVEL_AND_LOCAL : 13984077.710144928\n",
            "TOOLS : 10801391.298666667\n",
            "PERSONALIZATION : 5201482.6122448975\n",
            "PRODUCTIVITY : 16787331.344927534\n",
            "PARENTING : 542603.6206896552\n",
            "WEATHER : 5074486.197183099\n",
            "VIDEO_PLAYERS : 24727872.452830188\n",
            "NEWS_AND_MAGAZINES : 9549178.467741935\n",
            "MAPS_AND_NAVIGATION : 4056941.7741935486\n"
          ]
        }
      ],
      "source": [
        "android_categories = freq_table(android_free, 1)\n",
        "\n",
        "for category in android_categories:\n",
        "    total = 0\n",
        "    len_category = 0\n",
        "    \n",
        "    for app in android_free:\n",
        "        category_app = app[1]\n",
        "        if category_app == category:\n",
        "            n_installs = app[5]\n",
        "            n_installs = n_installs.replace(',', '')\n",
        "            n_installs = n_installs.replace('+', '')\n",
        "            total += float(n_installs)\n",
        "            len_category += 1\n",
        "    \n",
        "    avg_installs = total / len_category\n",
        "    print(category, ':', avg_installs)"
      ]
    },
    {
      "cell_type": "markdown",
      "source": [
        "From the results above, Art and Design, Auto and Vehicles, and Beaty are the most popular categories in GooglePlay. \n",
        "\n",
        "Based on both datasets from GooglePlay and AppStore, we can conclude that the best app category to attract users will be Art and Design category in GooglePlay or Photo and Video in AppStore. \n",
        "\n",
        "By developing apps in the following genre, there is a high probability of making good profit from showing ads."
      ],
      "metadata": {
        "id": "2k1IJtD4apta"
      }
    },
    {
      "cell_type": "markdown",
      "source": [
        "Summarizing, a data from AppStore and GooglePlay was analyzed. The main goal was to determine the most popular genre (category) for free apps that can be used to profit developers from displaying ads."
      ],
      "metadata": {
        "id": "igiXbEDoaTwC"
      }
    }
  ],
  "metadata": {
    "kernelspec": {
      "display_name": "Python 3",
      "language": "python",
      "name": "python3"
    },
    "language_info": {
      "codemirror_mode": {
        "name": "ipython",
        "version": 3
      },
      "file_extension": ".py",
      "mimetype": "text/x-python",
      "name": "python",
      "nbconvert_exporter": "python",
      "pygments_lexer": "ipython3",
      "version": "3.8.2"
    },
    "colab": {
      "name": "Basics.ipynb",
      "provenance": []
    }
  },
  "nbformat": 4,
  "nbformat_minor": 0
}